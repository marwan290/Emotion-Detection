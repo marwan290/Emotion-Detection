{
  "metadata": {
    "kernelspec": {
      "language": "python",
      "display_name": "Python 3",
      "name": "python3"
    },
    "language_info": {
      "name": "python",
      "version": "3.7.10",
      "mimetype": "text/x-python",
      "codemirror_mode": {
        "name": "ipython",
        "version": 3
      },
      "pygments_lexer": "ipython3",
      "nbconvert_exporter": "python",
      "file_extension": ".py"
    },
    "colab": {
      "name": "emotion-detection-cnn-lstm.ipynb",
      "provenance": []
    },
    "accelerator": "GPU"
  },
  "nbformat_minor": 0,
  "nbformat": 4,
  "cells": [
    {
      "cell_type": "code",
      "source": [
        "import re\n",
        "import string\n",
        "import numpy as np\n",
        "import pandas as pd\n",
        "import matplotlib.pyplot as plt\n",
        "import seaborn as sns\n",
        "\n",
        "from sklearn.preprocessing import LabelEncoder\n",
        "from sklearn.model_selection import train_test_split\n",
        "\n",
        "from tensorflow.keras.utils import to_categorical\n",
        "from tensorflow.keras.preprocessing.text import Tokenizer\n",
        "from tensorflow.keras.preprocessing.sequence import pad_sequences\n",
        "\n",
        "from tensorflow.keras.optimizers import Adam\n",
        "from tensorflow.keras.models import Sequential\n",
        "from tensorflow.keras.callbacks import EarlyStopping\n",
        "from tensorflow.keras.layers import Dense, LSTM, Embedding, Dropout, Activation, Flatten, Input, concatenate, Conv1D, GlobalMaxPooling1D, MaxPooling1D\n",
        "\n"
      ],
      "metadata": {
        "_uuid": "8f2839f25d086af736a60e9eeb907d3b93b6e0e5",
        "_cell_guid": "b1076dfc-b9ad-4769-8c92-a6c4dae69d19",
        "execution": {
          "iopub.status.busy": "2022-03-12T16:46:49.012955Z",
          "iopub.execute_input": "2022-03-12T16:46:49.013253Z",
          "iopub.status.idle": "2022-03-12T16:46:49.021446Z",
          "shell.execute_reply.started": "2022-03-12T16:46:49.013221Z",
          "shell.execute_reply": "2022-03-12T16:46:49.020417Z"
        },
        "trusted": true,
        "id": "ttixY_y4FT30"
      },
      "execution_count": 4,
      "outputs": []
    },
    {
      "cell_type": "code",
      "source": [
        "# Text preprocessing function\n",
        "\n",
        "str_punc = string.punctuation.replace(',', '').replace(\"'\",'')\n",
        "\n",
        "def clean(text):\n",
        "    global str_punc\n",
        "    text = re.sub(r'[^a-zA-Z ]', '', text)\n",
        "    text = text.lower()\n",
        "    return text    "
      ],
      "metadata": {
        "execution": {
          "iopub.status.busy": "2022-03-12T16:46:49.023330Z",
          "iopub.execute_input": "2022-03-12T16:46:49.024254Z",
          "iopub.status.idle": "2022-03-12T16:46:49.031987Z",
          "shell.execute_reply.started": "2022-03-12T16:46:49.024210Z",
          "shell.execute_reply": "2022-03-12T16:46:49.031089Z"
        },
        "trusted": true,
        "id": "dk1eE3pxFT4A"
      },
      "execution_count": 5,
      "outputs": []
    },
    {
      "cell_type": "code",
      "source": [
        "# Read dataset & Preprocess text\n",
        "# dataset = pd.read_csv('../input/isear-emotion/isear_dataset.csv')\n",
        "df_train = pd.read_csv('data/train.txt', names=['Text', 'Emotion'], sep=';')\n",
        "df_val = pd.read_csv('data/val.txt', names=['Text', 'Emotion'], sep=';')\n",
        "df_test = pd.read_csv('data/test.txt', names=['Text', 'Emotion'], sep=';')\n",
        "\n",
        "df_test = df_test[df_test['Emotion'].isin(['sadness','anger','joy','fear'])]\n",
        "df_val = df_val[df_val['Emotion'].isin(['sadness','anger','joy','fear'])]\n",
        "df_train = df_train[df_train['Emotion'].isin(['sadness','anger','joy','fear'])]\n",
        "\n",
        "X_train = df_train['Text'].apply(clean)\n",
        "y_train = df_train['Emotion']\n",
        "\n",
        "X_test = df_test['Text'].apply(clean)\n",
        "y_test = df_test['Emotion']\n",
        "\n",
        "X_val = df_val['Text'].apply(clean)\n",
        "y_val = df_val['Emotion']"
      ],
      "metadata": {
        "execution": {
          "iopub.status.busy": "2022-03-12T16:46:49.033694Z",
          "iopub.execute_input": "2022-03-12T16:46:49.034376Z",
          "iopub.status.idle": "2022-03-12T16:46:49.211262Z",
          "shell.execute_reply.started": "2022-03-12T16:46:49.034202Z",
          "shell.execute_reply": "2022-03-12T16:46:49.210503Z"
        },
        "trusted": true,
        "id": "RHC2jjmrFT4C"
      },
      "execution_count": 23,
      "outputs": []
    },
    {
      "cell_type": "code",
      "source": [
        "# Visualize classes counts\n",
        "\n",
        "sns.countplot(y_train)\n",
        "plt.title(\"Training data - classes counts\")\n",
        "plt.show()\n",
        "\n",
        "sns.countplot(y_test)\n",
        "plt.title(\"Testing data - classes counts\")\n",
        "plt.show()\n",
        "\n",
        "sns.countplot(y_val)\n",
        "plt.title(\"Validation data - classes counts\")\n",
        "plt.show()"
      ],
      "metadata": {
        "execution": {
          "iopub.status.busy": "2022-03-12T16:46:49.213605Z",
          "iopub.execute_input": "2022-03-12T16:46:49.213976Z",
          "iopub.status.idle": "2022-03-12T16:46:49.958343Z",
          "shell.execute_reply.started": "2022-03-12T16:46:49.213935Z",
          "shell.execute_reply": "2022-03-12T16:46:49.957594Z"
        },
        "trusted": true,
        "colab": {
          "base_uri": "https://localhost:8080/",
          "height": 975
        },
        "id": "DvxSRH06FT4D",
        "outputId": "ca0d87a3-5bd8-4738-8a06-114be829928b"
      },
      "execution_count": 24,
      "outputs": [
        {
          "output_type": "stream",
          "name": "stderr",
          "text": [
            "/usr/local/lib/python3.7/dist-packages/seaborn/_decorators.py:43: FutureWarning: Pass the following variable as a keyword arg: x. From version 0.12, the only valid positional argument will be `data`, and passing other arguments without an explicit keyword will result in an error or misinterpretation.\n",
            "  FutureWarning\n"
          ]
        },
        {
          "output_type": "display_data",
          "data": {
            "text/plain": [
              "<Figure size 432x288 with 1 Axes>"
            ],
            "image/png": "[encoded data removed]"
          },
          "metadata": {
            "needs_background": "light"
          }
        },
        {
          "output_type": "stream",
          "name": "stderr",
          "text": [
            "/usr/local/lib/python3.7/dist-packages/seaborn/_decorators.py:43: FutureWarning: Pass the following variable as a keyword arg: x. From version 0.12, the only valid positional argument will be `data`, and passing other arguments without an explicit keyword will result in an error or misinterpretation.\n",
            "  FutureWarning\n"
          ]
        },
        {
          "output_type": "display_data",
          "data": {
            "text/plain": [
              "<Figure size 432x288 with 1 Axes>"
            ],
            "image/png": "[encoded data removed]"
          },
          "metadata": {
            "needs_background": "light"
          }
        },
        {
          "output_type": "stream",
          "name": "stderr",
          "text": [
            "/usr/local/lib/python3.7/dist-packages/seaborn/_decorators.py:43: FutureWarning: Pass the following variable as a keyword arg: x. From version 0.12, the only valid positional argument will be `data`, and passing other arguments without an explicit keyword will result in an error or misinterpretation.\n",
            "  FutureWarning\n"
          ]
        },
        {
          "output_type": "display_data",
          "data": {
            "text/plain": [
              "<Figure size 432x288 with 1 Axes>"
            ],
            "image/png": "[encoded data removed]"
          },
          "metadata": {
            "needs_background": "light"
          }
        }
      ]
    },
    {
      "cell_type": "code",
      "source": [
        "# Encode labels\n",
        "\n",
        "le = LabelEncoder()\n",
        "y_train = le.fit_transform(y_train)\n",
        "y_test = le.transform(y_test)\n",
        "y_val = le.transform(y_val)\n",
        "\n",
        "y_train = to_categorical(y_train)\n",
        "y_test = to_categorical(y_test)\n",
        "y_val = to_categorical(y_val)"
      ],
      "metadata": {
        "execution": {
          "iopub.status.busy": "2022-03-12T16:46:49.959709Z",
          "iopub.execute_input": "2022-03-12T16:46:49.959976Z",
          "iopub.status.idle": "2022-03-12T16:46:49.971290Z",
          "shell.execute_reply.started": "2022-03-12T16:46:49.959942Z",
          "shell.execute_reply": "2022-03-12T16:46:49.970298Z"
        },
        "trusted": true,
        "id": "T3Z4h8GNFT4F"
      },
      "execution_count": 8,
      "outputs": []
    },
    {
      "cell_type": "code",
      "source": [
        "\n",
        "# Tokenize words\n",
        "tokenizer = Tokenizer()\n",
        "tokenizer.fit_on_texts(pd.concat([X_train, X_test], axis=0))\n",
        "\n",
        "\n",
        "sequences_train = tokenizer.texts_to_sequences(X_train)\n",
        "sequences_test = tokenizer.texts_to_sequences(X_test)\n",
        "sequences_val = tokenizer.texts_to_sequences(X_val)\n",
        "\n",
        "X_train = pad_sequences(sequences_train, maxlen=256, truncating='pre')\n",
        "X_test = pad_sequences(sequences_test, maxlen=256, truncating='pre')\n",
        "X_val = pad_sequences(sequences_val, maxlen=256, truncating='pre')\n",
        "\n",
        "vocabSize = len(tokenizer.index_word) + 1\n",
        "print(f\"Vocabulary size = {vocabSize}\")"
      ],
      "metadata": {
        "execution": {
          "iopub.status.busy": "2022-03-12T16:46:49.973291Z",
          "iopub.execute_input": "2022-03-12T16:46:49.973753Z",
          "iopub.status.idle": "2022-03-12T16:46:50.728359Z",
          "shell.execute_reply.started": "2022-03-12T16:46:49.973702Z",
          "shell.execute_reply": "2022-03-12T16:46:50.727630Z"
        },
        "trusted": true,
        "colab": {
          "base_uri": "https://localhost:8080/"
        },
        "id": "WY6WgDQ1FT4G",
        "outputId": "e72862ab-f09f-4855-bb35-914119ca3bb9"
      },
      "execution_count": 9,
      "outputs": [
        {
          "output_type": "stream",
          "name": "stdout",
          "text": [
            "Vocabulary size = 12161\n"
          ]
        }
      ]
    },
    {
      "cell_type": "code",
      "source": [
        "# Embedding\n",
        "max_features = 20000\n",
        "maxlen = 100\n",
        "embedding_size = 128\n",
        "\n",
        "# Convolution\n",
        "kernel_size = 5\n",
        "filters = 64\n",
        "pool_size = 4\n",
        "\n",
        "# LSTM\n",
        "lstm_output_size = 70\n",
        "\n",
        "# Training\n",
        "#batch_size = 30\n",
        "#epochs = 2"
      ],
      "metadata": {
        "execution": {
          "iopub.status.busy": "2022-03-12T16:46:50.729450Z",
          "iopub.execute_input": "2022-03-12T16:46:50.731893Z",
          "iopub.status.idle": "2022-03-12T16:46:50.737597Z",
          "shell.execute_reply.started": "2022-03-12T16:46:50.731854Z",
          "shell.execute_reply": "2022-03-12T16:46:50.736908Z"
        },
        "trusted": true,
        "id": "jFnzujDXFT4I"
      },
      "execution_count": 10,
      "outputs": []
    },
    {
      "cell_type": "code",
      "source": [
        "# Embedding\n",
        "max_features = vocabSize\n",
        "maxlen = X_train.shape[1]\n",
        "embedding_size = 200\n",
        "\n",
        "# Convolution\n",
        "kernel_size = 5\n",
        "filters = 128\n",
        "pool_size = 4\n",
        "\n",
        "# LSTM\n",
        "lstm_output_size = 128\n",
        "\n",
        "# Training\n",
        "#batch_size = 30\n",
        "#epochs = 2"
      ],
      "metadata": {
        "execution": {
          "iopub.status.busy": "2022-03-12T16:46:50.738501Z",
          "iopub.execute_input": "2022-03-12T16:46:50.738706Z",
          "iopub.status.idle": "2022-03-12T16:46:50.746010Z",
          "shell.execute_reply.started": "2022-03-12T16:46:50.738682Z",
          "shell.execute_reply": "2022-03-12T16:46:50.745356Z"
        },
        "trusted": true,
        "id": "8KWLlMFTFT4L"
      },
      "execution_count": 11,
      "outputs": []
    },
    {
      "cell_type": "code",
      "source": [
        "print('Build model...')\n",
        "\n",
        "model = Sequential()\n",
        "model.add(Embedding(vocabSize, embedding_size, input_length=X_train.shape[1]))\n",
        "model.add(Dropout(0.25))\n",
        "model.add(Conv1D(filters,\n",
        "                 kernel_size,\n",
        "                 padding='valid',\n",
        "                 activation='relu',\n",
        "                 strides=1))\n",
        "model.add(MaxPooling1D(pool_size=pool_size))\n",
        "model.add(LSTM(lstm_output_size))\n",
        "model.add(Dense(4))\n",
        "model.add(Activation('softmax'))\n",
        "model.summary()"
      ],
      "metadata": {
        "execution": {
          "iopub.status.busy": "2022-03-12T16:46:50.749139Z",
          "iopub.execute_input": "2022-03-12T16:46:50.749415Z",
          "iopub.status.idle": "2022-03-12T16:46:53.336159Z",
          "shell.execute_reply.started": "2022-03-12T16:46:50.749384Z",
          "shell.execute_reply": "2022-03-12T16:46:53.333746Z"
        },
        "trusted": true,
        "colab": {
          "base_uri": "https://localhost:8080/"
        },
        "id": "Xd3vQZ9dFT4N",
        "outputId": "4c9e206c-4447-4428-fe0d-c4bc71657440"
      },
      "execution_count": 12,
      "outputs": [
        {
          "output_type": "stream",
          "name": "stdout",
          "text": [
            "Build model...\n",
            "Model: \"sequential\"\n",
            "_________________________________________________________________\n",
            " Layer (type)                Output Shape              Param #   \n",
            "=================================================================\n",
            " embedding (Embedding)       (None, 256, 200)          2432200   \n",
            "                                                                 \n",
            " dropout (Dropout)           (None, 256, 200)          0         \n",
            "                                                                 \n",
            " conv1d (Conv1D)             (None, 252, 128)          128128    \n",
            "                                                                 \n",
            " max_pooling1d (MaxPooling1D  (None, 63, 128)          0         \n",
            " )                                                               \n",
            "                                                                 \n",
            " lstm (LSTM)                 (None, 128)               131584    \n",
            "                                                                 \n",
            " dense (Dense)               (None, 4)                 516       \n",
            "                                                                 \n",
            " activation (Activation)     (None, 4)                 0         \n",
            "                                                                 \n",
            "=================================================================\n",
            "Total params: 2,692,428\n",
            "Trainable params: 2,692,428\n",
            "Non-trainable params: 0\n",
            "_________________________________________________________________\n"
          ]
        }
      ]
    },
    {
      "cell_type": "code",
      "source": [
        "adam = Adam(learning_rate=0.005)\n",
        "model.compile(loss='categorical_crossentropy', optimizer=adam, metrics=['accuracy'])\n"
      ],
      "metadata": {
        "execution": {
          "iopub.status.busy": "2022-03-12T16:46:53.338565Z",
          "iopub.execute_input": "2022-03-12T16:46:53.339231Z",
          "iopub.status.idle": "2022-03-12T16:46:53.352488Z",
          "shell.execute_reply.started": "2022-03-12T16:46:53.339197Z",
          "shell.execute_reply": "2022-03-12T16:46:53.351700Z"
        },
        "trusted": true,
        "id": "voMnQMdnFT4P"
      },
      "execution_count": 13,
      "outputs": []
    },
    {
      "cell_type": "code",
      "source": [
        "callback = EarlyStopping(\n",
        "    monitor=\"val_loss\",\n",
        "    patience=3,\n",
        "    restore_best_weights=True,\n",
        ")"
      ],
      "metadata": {
        "execution": {
          "iopub.status.busy": "2022-03-12T16:46:53.354013Z",
          "iopub.execute_input": "2022-03-12T16:46:53.354474Z",
          "iopub.status.idle": "2022-03-12T16:46:53.358591Z",
          "shell.execute_reply.started": "2022-03-12T16:46:53.354437Z",
          "shell.execute_reply": "2022-03-12T16:46:53.357643Z"
        },
        "trusted": true,
        "id": "KDeAu_kPFT4R"
      },
      "execution_count": 14,
      "outputs": []
    },
    {
      "cell_type": "code",
      "source": [
        "# Fit model\n",
        "history = model.fit(X_train,\n",
        "                    y_train,\n",
        "                    validation_data=(X_val, y_val),\n",
        "                    verbose=1,\n",
        "                    batch_size=256,\n",
        "                    epochs=30,\n",
        "                    callbacks=[callback]\n",
        "                   )"
      ],
      "metadata": {
        "execution": {
          "iopub.status.busy": "2022-03-12T16:46:53.359802Z",
          "iopub.execute_input": "2022-03-12T16:46:53.360265Z",
          "iopub.status.idle": "2022-03-12T16:47:13.853787Z",
          "shell.execute_reply.started": "2022-03-12T16:46:53.360227Z",
          "shell.execute_reply": "2022-03-12T16:47:13.853017Z"
        },
        "trusted": true,
        "colab": {
          "base_uri": "https://localhost:8080/"
        },
        "id": "sT88ux5kFT4S",
        "outputId": "af76918c-c0bf-446c-d903-4af52808c4e7"
      },
      "execution_count": 15,
      "outputs": [
        {
          "output_type": "stream",
          "name": "stdout",
          "text": [
            "Epoch 1/30\n",
            "35/35 [==============================] - 16s 109ms/step - loss: 1.1038 - accuracy: 0.5016 - val_loss: 0.5557 - val_accuracy: 0.7972\n",
            "Epoch 2/30\n",
            "35/35 [==============================] - 3s 79ms/step - loss: 0.3958 - accuracy: 0.8325 - val_loss: 0.3444 - val_accuracy: 0.8817\n",
            "Epoch 3/30\n",
            "35/35 [==============================] - 3s 81ms/step - loss: 0.1251 - accuracy: 0.9617 - val_loss: 0.2831 - val_accuracy: 0.9150\n",
            "Epoch 4/30\n",
            "35/35 [==============================] - 3s 89ms/step - loss: 0.0545 - accuracy: 0.9825 - val_loss: 0.2455 - val_accuracy: 0.9265\n",
            "Epoch 5/30\n",
            "35/35 [==============================] - 3s 88ms/step - loss: 0.0229 - accuracy: 0.9930 - val_loss: 0.2930 - val_accuracy: 0.9144\n",
            "Epoch 6/30\n",
            "35/35 [==============================] - 3s 87ms/step - loss: 0.0144 - accuracy: 0.9959 - val_loss: 0.3462 - val_accuracy: 0.9161\n",
            "Epoch 7/30\n",
            "35/35 [==============================] - 3s 88ms/step - loss: 0.0105 - accuracy: 0.9966 - val_loss: 0.3013 - val_accuracy: 0.9316\n"
          ]
        }
      ]
    },
    {
      "cell_type": "code",
      "source": [
        "model.evaluate(X_test, y_test, verbose=1)"
      ],
      "metadata": {
        "execution": {
          "iopub.status.busy": "2022-03-12T16:47:13.854999Z",
          "iopub.execute_input": "2022-03-12T16:47:13.855285Z",
          "iopub.status.idle": "2022-03-12T16:47:14.117682Z",
          "shell.execute_reply.started": "2022-03-12T16:47:13.855247Z",
          "shell.execute_reply": "2022-03-12T16:47:14.117028Z"
        },
        "trusted": true,
        "colab": {
          "base_uri": "https://localhost:8080/"
        },
        "id": "nK_4FU4QFT4T",
        "outputId": "2b3584a2-1e34-4ed7-af2d-a61e51a89271"
      },
      "execution_count": 16,
      "outputs": [
        {
          "output_type": "stream",
          "name": "stdout",
          "text": [
            "56/56 [==============================] - 1s 14ms/step - loss: 0.2326 - accuracy: 0.9268\n"
          ]
        },
        {
          "output_type": "execute_result",
          "data": {
            "text/plain": [
              "[0.23262926936149597, 0.9267605543136597]"
            ]
          },
          "metadata": {},
          "execution_count": 16
        }
      ]
    },
    {
      "cell_type": "code",
      "source": [
        "# Visualize Loss & Accuracy\n",
        "\n",
        "%matplotlib inline\n",
        "import matplotlib.pyplot as plt\n",
        "acc = history.history['accuracy']\n",
        "val_acc = history.history['val_accuracy']\n",
        "loss = history.history['loss']\n",
        "val_loss = history.history['val_loss']\n",
        "\n",
        "epochs = range(len(acc))\n",
        "\n",
        "plt.plot(epochs, acc, 'r', label='Training accuracy')\n",
        "plt.plot(epochs, val_acc, 'b', label='Validation accuracy')\n",
        "plt.title('Training and validation accuracy')\n",
        "plt.legend()\n",
        "plt.figure()\n",
        "\n",
        "plt.plot(epochs, loss, 'r', label='Training Loss')\n",
        "plt.plot(epochs, val_loss, 'b', label='Validation Loss')\n",
        "plt.title('Training and validation loss')\n",
        "plt.legend()\n",
        "\n",
        "plt.show()"
      ],
      "metadata": {
        "execution": {
          "iopub.status.busy": "2022-03-12T16:47:14.119173Z",
          "iopub.execute_input": "2022-03-12T16:47:14.119421Z",
          "iopub.status.idle": "2022-03-12T16:47:14.555404Z",
          "shell.execute_reply.started": "2022-03-12T16:47:14.119386Z",
          "shell.execute_reply": "2022-03-12T16:47:14.554705Z"
        },
        "trusted": true,
        "colab": {
          "base_uri": "https://localhost:8080/",
          "height": 545
        },
        "id": "xHcf53zRFT4U",
        "outputId": "b0821a97-937c-4346-eb48-b260f63636af"
      },
      "execution_count": 17,
      "outputs": [
        {
          "output_type": "display_data",
          "data": {
            "text/plain": [
              "<Figure size 432x288 with 1 Axes>"
            ],
            "image/png": "[encoded data removed]"
          },
          "metadata": {
            "needs_background": "light"
          }
        },
        {
          "output_type": "display_data",
          "data": {
            "text/plain": [
              "<Figure size 432x288 with 1 Axes>"
            ],
            "image/png": "[encoded data removed]"
          },
          "metadata": {
            "needs_background": "light"
          }
        }
      ]
    },
    {
      "cell_type": "code",
      "source": [
        "# Classify custom sample\n",
        "def predict(text):\n",
        "    print(sentence)\n",
        "    sentence = clean(sentence)\n",
        "    sentence = tokenizer.texts_to_sequences([sentence])\n",
        "    sentence = pad_sequences(sentence, maxlen=256, truncating='pre')\n",
        "    result = le.inverse_transform(np.argmax(model.predict(sentence), axis=-1))[0]\n",
        "    proba =  np.max(model.predict(sentence))\n",
        "    print(f\"{result} : {proba}\\n\\n\")"
      ],
      "metadata": {
        "execution": {
          "iopub.status.busy": "2022-03-12T16:47:25.679161Z",
          "iopub.execute_input": "2022-03-12T16:47:25.679425Z",
          "iopub.status.idle": "2022-03-12T16:47:25.684901Z",
          "shell.execute_reply.started": "2022-03-12T16:47:25.679396Z",
          "shell.execute_reply": "2022-03-12T16:47:25.684172Z"
        },
        "trusted": true,
        "id": "TvRUKP9WFT4V"
      },
      "execution_count": 18,
      "outputs": []
    },
    {
      "cell_type": "code",
      "source": [
        "import pickle\n",
        "with open('tokenizer.pickle', 'wb') as f:\n",
        "    pickle.dump(tokenizer, f)\n",
        "    \n",
        "with open('labelEncoder.pickle', 'wb') as f:\n",
        "    pickle.dump(le, f)\n",
        "    \n",
        "    \n",
        "model.save('Emotion Detection.h5')"
      ],
      "metadata": {
        "execution": {
          "iopub.status.busy": "2022-03-12T16:47:14.565635Z",
          "iopub.status.idle": "2022-03-12T16:47:14.566261Z",
          "shell.execute_reply.started": "2022-03-12T16:47:14.566012Z",
          "shell.execute_reply": "2022-03-12T16:47:14.566038Z"
        },
        "trusted": true,
        "id": "GLYxJvXQFT4W"
      },
      "execution_count": 19,
      "outputs": []
    }
  ]
}